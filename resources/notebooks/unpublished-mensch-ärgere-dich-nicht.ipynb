{
 "cells": [
  {
   "cell_type": "markdown",
   "metadata": {},
   "source": [
    "While playing board games with my kids we came along \"Mensch ärgere dich nicht\". Since I tend to let my kids win, I was thinking about strategy for that game with intention to lose. Later I did some googling, but did not find any good sources. The general consensus seems to be that it is purely luck based and that applying strategies does not change the outcome significantly. Let's see, what I find out.\n",
    "\n",
    "## Step one: build the game as python module\n",
    "\n",
    "The board consists of a circle with starting positions distributed evenly plus one endzone for each player.\n",
    "\n",
    "I will focus on the [rules from the original game](https://en.wikipedia.org/wiki/Mensch_%C3%A4rgere_dich_nicht#Rules):\n",
    "\n",
    "* 6 brings a piece into the game onto the starting position. If that space is occupied by a piece of the same player, that piece must be moved first\n",
    "* Pieces can jump over other pieces, and throw out pieces from other players (not its own pieces)\n",
    "* you can not jump over pieces in the end zone\n",
    "* if you don't have a piece on the board, that can be moved, you can thor the dice three times to try to get a six\n",
    "\n",
    "The Board will be represented as matrix, or to be more precise, as a vector of list, each line of the vector representing a player, with a list of that players pieces on the board:\n",
    "\n",
    "$$\n",
    "\\begin{pmatrix}\n",
    "(p_1^1, p_1^2, \\dots, p_1^n) \\\\\n",
    "(p_2^1, p_2^2, \\dots, p_2^n) \\\\\n",
    "(p_3^1, p_3^2, \\dots, p_3^n) \\\\\n",
    "\\end{pmatrix}\n",
    "$$\n",
    "\n",
    "\n",
    "## Step two: Implementing strategies\n",
    "\n",
    "Strategies in MAEDN boil down to chose of piece of a player that should execute the move. At max there are 4 alternatives if all pieces are on the board. This number might be reduced if any piece can not execute the given move due to rules violation (e.g. the piece would throw out another piece of the same player)\n",
    "\n"
   ]
  }
 ],
 "metadata": {
  "kernelspec": {
   "display_name": "Python 3",
   "language": "python",
   "name": "python3"
  },
  "language_info": {
   "codemirror_mode": {
    "name": "ipython",
    "version": 3
   },
   "file_extension": ".py",
   "mimetype": "text/x-python",
   "name": "python",
   "nbconvert_exporter": "python",
   "pygments_lexer": "ipython3",
   "version": "3.6.3"
  }
 },
 "nbformat": 4,
 "nbformat_minor": 2
}
